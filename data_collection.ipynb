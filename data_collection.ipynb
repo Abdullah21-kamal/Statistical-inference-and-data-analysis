{
  "nbformat": 4,
  "nbformat_minor": 0,
  "metadata": {
    "colab": {
      "provenance": []
    },
    "kernelspec": {
      "name": "python3",
      "display_name": "Python 3"
    },
    "language_info": {
      "name": "python"
    }
  },
  "cells": [
    {
      "cell_type": "code",
      "execution_count": null,
      "metadata": {
        "id": "IUD5U3sDXusV"
      },
      "outputs": [],
      "source": [
        "import requests\n",
        "import json\n",
        "import time\n",
        "import csv\n",
        "import pandas as pd"
      ]
    },
    {
      "cell_type": "code",
      "source": [
        "api_url='https://data.ojp.usdoj.gov/resource/gcuy-rt5g.csv?$limit=1500000'"
      ],
      "metadata": {
        "id": "ICm3ijQDXv3v"
      },
      "execution_count": null,
      "outputs": []
    },
    {
      "cell_type": "code",
      "source": [
        "download = requests.get(api_url)"
      ],
      "metadata": {
        "id": "6pZuGBgGzFp-"
      },
      "execution_count": null,
      "outputs": []
    },
    {
      "cell_type": "code",
      "source": [
        "download"
      ],
      "metadata": {
        "colab": {
          "base_uri": "https://localhost:8080/"
        },
        "id": "h7KuE8OjOdcm",
        "outputId": "0596492e-0af8-45be-fdc9-098e44cebd4a"
      },
      "execution_count": null,
      "outputs": [
        {
          "output_type": "execute_result",
          "data": {
            "text/plain": [
              "<Response [200]>"
            ]
          },
          "metadata": {},
          "execution_count": 4
        }
      ]
    },
    {
      "cell_type": "code",
      "source": [
        "from io import StringIO\n",
        "text=StringIO(download.content.decode('utf-8'))\n",
        "df=pd.read_csv(text)"
      ],
      "metadata": {
        "id": "RjdJOyfcPMcD"
      },
      "execution_count": null,
      "outputs": []
    },
    {
      "cell_type": "code",
      "source": [
        "df"
      ],
      "metadata": {
        "id": "ipw1kmmLPPZd",
        "colab": {
          "base_uri": "https://localhost:8080/",
          "height": 488
        },
        "outputId": "20e8110c-fd82-4b9e-97d6-8f6715479672"
      },
      "execution_count": null,
      "outputs": [
        {
          "output_type": "execute_result",
          "data": {
            "text/plain": [
              "                             idper   yearq  year  ager  sex  hispanic  race  \\\n",
              "0      210176836193319999999923301  2004.1  2004     2    2         2     2   \n",
              "1      254207015147069329204211203  2009.1  2009     1    1         2     1   \n",
              "2      210313595043196799999912102  2004.1  2004     4    1         2     1   \n",
              "3      252018211553075329282015501  2011.4  2011     3    1         1     1   \n",
              "4      210376205057919299999921201  2004.1  2004     2    1         2     1   \n",
              "...                            ...     ...   ...   ...  ...       ...   ...   \n",
              "63460  175644020856124356443623301  2021.3  2021     2    2         2     1   \n",
              "63461  183682680382578456365612501  2021.3  2021     4    2         2     1   \n",
              "63462  204444199256608656440816204  2021.4  2021     1    1         2     1   \n",
              "63463  190149418435658458825913602  2021.3  2021     2    1         2     1   \n",
              "63464  190136353341087156593813701  2021.3  2021     4    1         1     1   \n",
              "\n",
              "       race_ethnicity  hincome1  hincome2  ...  weapcat  injury  serious  \\\n",
              "0                   2         1        -1  ...        0       0        1   \n",
              "1                   1         7        -1  ...        2       0        1   \n",
              "2                   1         5        -1  ...        0       0        1   \n",
              "3                   6         5        -1  ...        0       0        1   \n",
              "4                   1         6        -1  ...        0       1        3   \n",
              "...               ...       ...       ...  ...      ...     ...      ...   \n",
              "63460               1         7         3  ...        0       0        1   \n",
              "63461               1         7         5  ...        0       0        1   \n",
              "63462               1         7         3  ...        0       1        3   \n",
              "63463               1         6         3  ...        1       0        1   \n",
              "63464               6         7         3  ...        1       1        3   \n",
              "\n",
              "       treatment  offenderage  offendersex  offtracenew     wgtviccy  series  \\\n",
              "0              0            3            1           -1  1952.973730       1   \n",
              "1              0            5            1           -1  5570.687730       1   \n",
              "2              0            4            1           -1  3366.957480       1   \n",
              "3              0           88            1           -1  6991.560610       1   \n",
              "4              1            3            3           -1  2834.649050       1   \n",
              "...          ...          ...          ...          ...          ...     ...   \n",
              "63460          0            4            1            1  1255.609375       1   \n",
              "63461          0            3            1            2   842.529114       1   \n",
              "63462          1            1            1            7  1029.867432       1   \n",
              "63463          0            2            1            1  5833.862305       1   \n",
              "63464          1            5            3            1  2835.449463       1   \n",
              "\n",
              "            newwgt  \n",
              "0      1952.973730  \n",
              "1      5570.687730  \n",
              "2      3366.957480  \n",
              "3      6991.560610  \n",
              "4      2834.649050  \n",
              "...            ...  \n",
              "63460  1255.609375  \n",
              "63461   842.529114  \n",
              "63462  1029.867432  \n",
              "63463  5833.862305  \n",
              "63464  2835.449463  \n",
              "\n",
              "[63465 rows x 37 columns]"
            ],
            "text/html": [
              "\n",
              "  <div id=\"df-82bf61ad-d59b-411e-9c32-b0a257325c73\">\n",
              "    <div class=\"colab-df-container\">\n",
              "      <div>\n",
              "<style scoped>\n",
              "    .dataframe tbody tr th:only-of-type {\n",
              "        vertical-align: middle;\n",
              "    }\n",
              "\n",
              "    .dataframe tbody tr th {\n",
              "        vertical-align: top;\n",
              "    }\n",
              "\n",
              "    .dataframe thead th {\n",
              "        text-align: right;\n",
              "    }\n",
              "</style>\n",
              "<table border=\"1\" class=\"dataframe\">\n",
              "  <thead>\n",
              "    <tr style=\"text-align: right;\">\n",
              "      <th></th>\n",
              "      <th>idper</th>\n",
              "      <th>yearq</th>\n",
              "      <th>year</th>\n",
              "      <th>ager</th>\n",
              "      <th>sex</th>\n",
              "      <th>hispanic</th>\n",
              "      <th>race</th>\n",
              "      <th>race_ethnicity</th>\n",
              "      <th>hincome1</th>\n",
              "      <th>hincome2</th>\n",
              "      <th>...</th>\n",
              "      <th>weapcat</th>\n",
              "      <th>injury</th>\n",
              "      <th>serious</th>\n",
              "      <th>treatment</th>\n",
              "      <th>offenderage</th>\n",
              "      <th>offendersex</th>\n",
              "      <th>offtracenew</th>\n",
              "      <th>wgtviccy</th>\n",
              "      <th>series</th>\n",
              "      <th>newwgt</th>\n",
              "    </tr>\n",
              "  </thead>\n",
              "  <tbody>\n",
              "    <tr>\n",
              "      <th>0</th>\n",
              "      <td>210176836193319999999923301</td>\n",
              "      <td>2004.1</td>\n",
              "      <td>2004</td>\n",
              "      <td>2</td>\n",
              "      <td>2</td>\n",
              "      <td>2</td>\n",
              "      <td>2</td>\n",
              "      <td>2</td>\n",
              "      <td>1</td>\n",
              "      <td>-1</td>\n",
              "      <td>...</td>\n",
              "      <td>0</td>\n",
              "      <td>0</td>\n",
              "      <td>1</td>\n",
              "      <td>0</td>\n",
              "      <td>3</td>\n",
              "      <td>1</td>\n",
              "      <td>-1</td>\n",
              "      <td>1952.973730</td>\n",
              "      <td>1</td>\n",
              "      <td>1952.973730</td>\n",
              "    </tr>\n",
              "    <tr>\n",
              "      <th>1</th>\n",
              "      <td>254207015147069329204211203</td>\n",
              "      <td>2009.1</td>\n",
              "      <td>2009</td>\n",
              "      <td>1</td>\n",
              "      <td>1</td>\n",
              "      <td>2</td>\n",
              "      <td>1</td>\n",
              "      <td>1</td>\n",
              "      <td>7</td>\n",
              "      <td>-1</td>\n",
              "      <td>...</td>\n",
              "      <td>2</td>\n",
              "      <td>0</td>\n",
              "      <td>1</td>\n",
              "      <td>0</td>\n",
              "      <td>5</td>\n",
              "      <td>1</td>\n",
              "      <td>-1</td>\n",
              "      <td>5570.687730</td>\n",
              "      <td>1</td>\n",
              "      <td>5570.687730</td>\n",
              "    </tr>\n",
              "    <tr>\n",
              "      <th>2</th>\n",
              "      <td>210313595043196799999912102</td>\n",
              "      <td>2004.1</td>\n",
              "      <td>2004</td>\n",
              "      <td>4</td>\n",
              "      <td>1</td>\n",
              "      <td>2</td>\n",
              "      <td>1</td>\n",
              "      <td>1</td>\n",
              "      <td>5</td>\n",
              "      <td>-1</td>\n",
              "      <td>...</td>\n",
              "      <td>0</td>\n",
              "      <td>0</td>\n",
              "      <td>1</td>\n",
              "      <td>0</td>\n",
              "      <td>4</td>\n",
              "      <td>1</td>\n",
              "      <td>-1</td>\n",
              "      <td>3366.957480</td>\n",
              "      <td>1</td>\n",
              "      <td>3366.957480</td>\n",
              "    </tr>\n",
              "    <tr>\n",
              "      <th>3</th>\n",
              "      <td>252018211553075329282015501</td>\n",
              "      <td>2011.4</td>\n",
              "      <td>2011</td>\n",
              "      <td>3</td>\n",
              "      <td>1</td>\n",
              "      <td>1</td>\n",
              "      <td>1</td>\n",
              "      <td>6</td>\n",
              "      <td>5</td>\n",
              "      <td>-1</td>\n",
              "      <td>...</td>\n",
              "      <td>0</td>\n",
              "      <td>0</td>\n",
              "      <td>1</td>\n",
              "      <td>0</td>\n",
              "      <td>88</td>\n",
              "      <td>1</td>\n",
              "      <td>-1</td>\n",
              "      <td>6991.560610</td>\n",
              "      <td>1</td>\n",
              "      <td>6991.560610</td>\n",
              "    </tr>\n",
              "    <tr>\n",
              "      <th>4</th>\n",
              "      <td>210376205057919299999921201</td>\n",
              "      <td>2004.1</td>\n",
              "      <td>2004</td>\n",
              "      <td>2</td>\n",
              "      <td>1</td>\n",
              "      <td>2</td>\n",
              "      <td>1</td>\n",
              "      <td>1</td>\n",
              "      <td>6</td>\n",
              "      <td>-1</td>\n",
              "      <td>...</td>\n",
              "      <td>0</td>\n",
              "      <td>1</td>\n",
              "      <td>3</td>\n",
              "      <td>1</td>\n",
              "      <td>3</td>\n",
              "      <td>3</td>\n",
              "      <td>-1</td>\n",
              "      <td>2834.649050</td>\n",
              "      <td>1</td>\n",
              "      <td>2834.649050</td>\n",
              "    </tr>\n",
              "    <tr>\n",
              "      <th>...</th>\n",
              "      <td>...</td>\n",
              "      <td>...</td>\n",
              "      <td>...</td>\n",
              "      <td>...</td>\n",
              "      <td>...</td>\n",
              "      <td>...</td>\n",
              "      <td>...</td>\n",
              "      <td>...</td>\n",
              "      <td>...</td>\n",
              "      <td>...</td>\n",
              "      <td>...</td>\n",
              "      <td>...</td>\n",
              "      <td>...</td>\n",
              "      <td>...</td>\n",
              "      <td>...</td>\n",
              "      <td>...</td>\n",
              "      <td>...</td>\n",
              "      <td>...</td>\n",
              "      <td>...</td>\n",
              "      <td>...</td>\n",
              "      <td>...</td>\n",
              "    </tr>\n",
              "    <tr>\n",
              "      <th>63460</th>\n",
              "      <td>175644020856124356443623301</td>\n",
              "      <td>2021.3</td>\n",
              "      <td>2021</td>\n",
              "      <td>2</td>\n",
              "      <td>2</td>\n",
              "      <td>2</td>\n",
              "      <td>1</td>\n",
              "      <td>1</td>\n",
              "      <td>7</td>\n",
              "      <td>3</td>\n",
              "      <td>...</td>\n",
              "      <td>0</td>\n",
              "      <td>0</td>\n",
              "      <td>1</td>\n",
              "      <td>0</td>\n",
              "      <td>4</td>\n",
              "      <td>1</td>\n",
              "      <td>1</td>\n",
              "      <td>1255.609375</td>\n",
              "      <td>1</td>\n",
              "      <td>1255.609375</td>\n",
              "    </tr>\n",
              "    <tr>\n",
              "      <th>63461</th>\n",
              "      <td>183682680382578456365612501</td>\n",
              "      <td>2021.3</td>\n",
              "      <td>2021</td>\n",
              "      <td>4</td>\n",
              "      <td>2</td>\n",
              "      <td>2</td>\n",
              "      <td>1</td>\n",
              "      <td>1</td>\n",
              "      <td>7</td>\n",
              "      <td>5</td>\n",
              "      <td>...</td>\n",
              "      <td>0</td>\n",
              "      <td>0</td>\n",
              "      <td>1</td>\n",
              "      <td>0</td>\n",
              "      <td>3</td>\n",
              "      <td>1</td>\n",
              "      <td>2</td>\n",
              "      <td>842.529114</td>\n",
              "      <td>1</td>\n",
              "      <td>842.529114</td>\n",
              "    </tr>\n",
              "    <tr>\n",
              "      <th>63462</th>\n",
              "      <td>204444199256608656440816204</td>\n",
              "      <td>2021.4</td>\n",
              "      <td>2021</td>\n",
              "      <td>1</td>\n",
              "      <td>1</td>\n",
              "      <td>2</td>\n",
              "      <td>1</td>\n",
              "      <td>1</td>\n",
              "      <td>7</td>\n",
              "      <td>3</td>\n",
              "      <td>...</td>\n",
              "      <td>0</td>\n",
              "      <td>1</td>\n",
              "      <td>3</td>\n",
              "      <td>1</td>\n",
              "      <td>1</td>\n",
              "      <td>1</td>\n",
              "      <td>7</td>\n",
              "      <td>1029.867432</td>\n",
              "      <td>1</td>\n",
              "      <td>1029.867432</td>\n",
              "    </tr>\n",
              "    <tr>\n",
              "      <th>63463</th>\n",
              "      <td>190149418435658458825913602</td>\n",
              "      <td>2021.3</td>\n",
              "      <td>2021</td>\n",
              "      <td>2</td>\n",
              "      <td>1</td>\n",
              "      <td>2</td>\n",
              "      <td>1</td>\n",
              "      <td>1</td>\n",
              "      <td>6</td>\n",
              "      <td>3</td>\n",
              "      <td>...</td>\n",
              "      <td>1</td>\n",
              "      <td>0</td>\n",
              "      <td>1</td>\n",
              "      <td>0</td>\n",
              "      <td>2</td>\n",
              "      <td>1</td>\n",
              "      <td>1</td>\n",
              "      <td>5833.862305</td>\n",
              "      <td>1</td>\n",
              "      <td>5833.862305</td>\n",
              "    </tr>\n",
              "    <tr>\n",
              "      <th>63464</th>\n",
              "      <td>190136353341087156593813701</td>\n",
              "      <td>2021.3</td>\n",
              "      <td>2021</td>\n",
              "      <td>4</td>\n",
              "      <td>1</td>\n",
              "      <td>1</td>\n",
              "      <td>1</td>\n",
              "      <td>6</td>\n",
              "      <td>7</td>\n",
              "      <td>3</td>\n",
              "      <td>...</td>\n",
              "      <td>1</td>\n",
              "      <td>1</td>\n",
              "      <td>3</td>\n",
              "      <td>1</td>\n",
              "      <td>5</td>\n",
              "      <td>3</td>\n",
              "      <td>1</td>\n",
              "      <td>2835.449463</td>\n",
              "      <td>1</td>\n",
              "      <td>2835.449463</td>\n",
              "    </tr>\n",
              "  </tbody>\n",
              "</table>\n",
              "<p>63465 rows × 37 columns</p>\n",
              "</div>\n",
              "      <button class=\"colab-df-convert\" onclick=\"convertToInteractive('df-82bf61ad-d59b-411e-9c32-b0a257325c73')\"\n",
              "              title=\"Convert this dataframe to an interactive table.\"\n",
              "              style=\"display:none;\">\n",
              "        \n",
              "  <svg xmlns=\"http://www.w3.org/2000/svg\" height=\"24px\"viewBox=\"0 0 24 24\"\n",
              "       width=\"24px\">\n",
              "    <path d=\"M0 0h24v24H0V0z\" fill=\"none\"/>\n",
              "    <path d=\"M18.56 5.44l.94 2.06.94-2.06 2.06-.94-2.06-.94-.94-2.06-.94 2.06-2.06.94zm-11 1L8.5 8.5l.94-2.06 2.06-.94-2.06-.94L8.5 2.5l-.94 2.06-2.06.94zm10 10l.94 2.06.94-2.06 2.06-.94-2.06-.94-.94-2.06-.94 2.06-2.06.94z\"/><path d=\"M17.41 7.96l-1.37-1.37c-.4-.4-.92-.59-1.43-.59-.52 0-1.04.2-1.43.59L10.3 9.45l-7.72 7.72c-.78.78-.78 2.05 0 2.83L4 21.41c.39.39.9.59 1.41.59.51 0 1.02-.2 1.41-.59l7.78-7.78 2.81-2.81c.8-.78.8-2.07 0-2.86zM5.41 20L4 18.59l7.72-7.72 1.47 1.35L5.41 20z\"/>\n",
              "  </svg>\n",
              "      </button>\n",
              "      \n",
              "  <style>\n",
              "    .colab-df-container {\n",
              "      display:flex;\n",
              "      flex-wrap:wrap;\n",
              "      gap: 12px;\n",
              "    }\n",
              "\n",
              "    .colab-df-convert {\n",
              "      background-color: #E8F0FE;\n",
              "      border: none;\n",
              "      border-radius: 50%;\n",
              "      cursor: pointer;\n",
              "      display: none;\n",
              "      fill: #1967D2;\n",
              "      height: 32px;\n",
              "      padding: 0 0 0 0;\n",
              "      width: 32px;\n",
              "    }\n",
              "\n",
              "    .colab-df-convert:hover {\n",
              "      background-color: #E2EBFA;\n",
              "      box-shadow: 0px 1px 2px rgba(60, 64, 67, 0.3), 0px 1px 3px 1px rgba(60, 64, 67, 0.15);\n",
              "      fill: #174EA6;\n",
              "    }\n",
              "\n",
              "    [theme=dark] .colab-df-convert {\n",
              "      background-color: #3B4455;\n",
              "      fill: #D2E3FC;\n",
              "    }\n",
              "\n",
              "    [theme=dark] .colab-df-convert:hover {\n",
              "      background-color: #434B5C;\n",
              "      box-shadow: 0px 1px 3px 1px rgba(0, 0, 0, 0.15);\n",
              "      filter: drop-shadow(0px 1px 2px rgba(0, 0, 0, 0.3));\n",
              "      fill: #FFFFFF;\n",
              "    }\n",
              "  </style>\n",
              "\n",
              "      <script>\n",
              "        const buttonEl =\n",
              "          document.querySelector('#df-82bf61ad-d59b-411e-9c32-b0a257325c73 button.colab-df-convert');\n",
              "        buttonEl.style.display =\n",
              "          google.colab.kernel.accessAllowed ? 'block' : 'none';\n",
              "\n",
              "        async function convertToInteractive(key) {\n",
              "          const element = document.querySelector('#df-82bf61ad-d59b-411e-9c32-b0a257325c73');\n",
              "          const dataTable =\n",
              "            await google.colab.kernel.invokeFunction('convertToInteractive',\n",
              "                                                     [key], {});\n",
              "          if (!dataTable) return;\n",
              "\n",
              "          const docLinkHtml = 'Like what you see? Visit the ' +\n",
              "            '<a target=\"_blank\" href=https://colab.research.google.com/notebooks/data_table.ipynb>data table notebook</a>'\n",
              "            + ' to learn more about interactive tables.';\n",
              "          element.innerHTML = '';\n",
              "          dataTable['output_type'] = 'display_data';\n",
              "          await google.colab.output.renderOutput(dataTable, element);\n",
              "          const docLink = document.createElement('div');\n",
              "          docLink.innerHTML = docLinkHtml;\n",
              "          element.appendChild(docLink);\n",
              "        }\n",
              "      </script>\n",
              "    </div>\n",
              "  </div>\n",
              "  "
            ]
          },
          "metadata": {},
          "execution_count": 6
        }
      ]
    },
    {
      "cell_type": "code",
      "source": [
        "df.to_csv ('victimization.csv')"
      ],
      "metadata": {
        "id": "lT-QsnlePYaQ"
      },
      "execution_count": null,
      "outputs": []
    },
    {
      "cell_type": "code",
      "source": [
        "#with open('victimization', 'w') as f:\n",
        "#         json.dump(download.json(),f)"
      ],
      "metadata": {
        "id": "e6HW-vHNy-4d"
      },
      "execution_count": null,
      "outputs": []
    },
    {
      "cell_type": "code",
      "source": [
        "api_url2='https://data.ojp.usdoj.gov/resource/r4j4-fdwx.csv?$limit=1500000'"
      ],
      "metadata": {
        "id": "jm2-M9IEizPF"
      },
      "execution_count": null,
      "outputs": []
    },
    {
      "cell_type": "code",
      "source": [
        "download2 = requests.get(api_url2)"
      ],
      "metadata": {
        "id": "rATIst-Ezl3X"
      },
      "execution_count": null,
      "outputs": []
    },
    {
      "cell_type": "code",
      "source": [
        "from io import StringIO\n",
        "text=StringIO(download2.content.decode('utf-8'))\n",
        "df2=pd.read_csv(text)\n",
        "df2.to_csv ('population.csv')"
      ],
      "metadata": {
        "id": "DgfJ6f2bPoe8"
      },
      "execution_count": null,
      "outputs": []
    },
    {
      "cell_type": "code",
      "source": [
        "#with open('population', 'w') as f:\n",
        "#         json.dump(download2.json(),f)"
      ],
      "metadata": {
        "id": "kRrnr6aHzl3Y"
      },
      "execution_count": null,
      "outputs": []
    },
    {
      "cell_type": "code",
      "source": [
        "api_url3='https://data.ojp.usdoj.gov/resource/ynf5-u8nk.csv?$limit=1500000'"
      ],
      "metadata": {
        "id": "O5lSoZNm05WO"
      },
      "execution_count": null,
      "outputs": []
    },
    {
      "cell_type": "code",
      "source": [
        "download3 = requests.get(api_url3)"
      ],
      "metadata": {
        "id": "3kIaAdot1Hgj"
      },
      "execution_count": null,
      "outputs": []
    },
    {
      "cell_type": "code",
      "source": [
        "from io import StringIO\n",
        "text=StringIO(download3.content.decode('utf-8'))\n",
        "df2=pd.read_csv(text)\n",
        "df2.to_csv ('Recidivism.csv')"
      ],
      "metadata": {
        "id": "WQvXBfxDU-Vb"
      },
      "execution_count": null,
      "outputs": []
    },
    {
      "cell_type": "code",
      "source": [
        "#with open('Recidivism', 'w') as f:\n",
        " #         json.dump(download3.json(),f)"
      ],
      "metadata": {
        "id": "IBzv00yi1K_V"
      },
      "execution_count": null,
      "outputs": []
    },
    {
      "cell_type": "code",
      "source": [
        "from google.colab import drive\n",
        "drive.mount('/content/drive',force_remount=True)"
      ],
      "metadata": {
        "colab": {
          "base_uri": "https://localhost:8080/"
        },
        "id": "qC-16T7l1Ruc",
        "outputId": "269aa8bd-2f08-4dae-ecd3-6f9755f2bd99"
      },
      "execution_count": null,
      "outputs": [
        {
          "output_type": "stream",
          "name": "stdout",
          "text": [
            "Mounted at /content/drive\n"
          ]
        }
      ]
    },
    {
      "cell_type": "code",
      "source": [
        "#!cp '/content/victimization'  '/content/drive/MyDrive/stats_proj/'\n",
        "#!cp '/content/population'  '/content/drive/MyDrive/stats_proj/'\n",
        "#!cp '/content/Recidivism'  '/content/drive/MyDrive/stats_proj/'"
      ],
      "metadata": {
        "id": "0ro37hU71T32"
      },
      "execution_count": null,
      "outputs": []
    },
    {
      "cell_type": "code",
      "source": [
        "!cp '/content/victimization.csv'  '/content/drive/MyDrive/stats_proj/'\n",
        "!cp '/content/population.csv'  '/content/drive/MyDrive/stats_proj/'"
      ],
      "metadata": {
        "id": "_6pUH7sQQPfJ"
      },
      "execution_count": null,
      "outputs": []
    },
    {
      "cell_type": "code",
      "source": [
        "!cp '/content/Recidivism.csv'  '/content/drive/MyDrive/stats_proj/'"
      ],
      "metadata": {
        "id": "gGnUKge4VIxG"
      },
      "execution_count": null,
      "outputs": []
    }
  ]
}